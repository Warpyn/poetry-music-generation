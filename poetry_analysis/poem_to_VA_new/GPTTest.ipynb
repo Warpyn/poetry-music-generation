{
 "cells": [
  {
   "cell_type": "code",
   "execution_count": null,
   "metadata": {},
   "outputs": [],
   "source": []
  },
  {
   "cell_type": "code",
   "execution_count": null,
   "metadata": {},
   "outputs": [],
   "source": [
    "from openai import OpenAI\n",
    "import os\n",
    "import json"
   ]
  },
  {
   "cell_type": "code",
   "execution_count": null,
   "metadata": {},
   "outputs": [],
   "source": [
    "my_client = OpenAI(api_key=\"APIKey\")"
   ]
  },
  {
   "cell_type": "code",
   "execution_count": null,
   "metadata": {},
   "outputs": [],
   "source": [
    "def get_completion(prompt, model=\"gpt-4\", client = my_client):\n",
    "    messages = [{\"role\": \"user\", \"content\": prompt}]\n",
    "    response = client.chat.completions.create(\n",
    "        model=model,\n",
    "        messages=messages,\n",
    "        temperature=0, # this is the degree of randomness of the model's output\n",
    "    )\n",
    "    return response.choices[0].message"
   ]
  },
  {
   "cell_type": "code",
   "execution_count": null,
   "metadata": {},
   "outputs": [],
   "source": [
    "poem = \"\"\"Your laughter, \n",
    "a blossoming bud, \n",
    "eyes like peacock, \n",
    "vivacious, sweet your laughter, \n",
    "what are the feelings, \n",
    "on your faces, \n",
    "your laughter, \n",
    "like a melodious rain, \n",
    "creates sensations in the heart, \n",
    "your laughter\n",
    "benumbs the eyes\n",
    "i pray, \n",
    "you carry on laughing\"\"\""
   ]
  },
  {
   "cell_type": "code",
   "execution_count": null,
   "metadata": {},
   "outputs": [],
   "source": [
    "emotion_list = \"admiration, amusement, anger, annoyance, approval, caring, confusion, curiosity, desire, disappointment, disapproval, disgust, embarrassment, excitement, feaer, gratitude, grief, joy, love, nervousness, optimism, pride, realization, relief, remorse, sadnee, surprise, neutral\""
   ]
  },
  {
   "cell_type": "code",
   "execution_count": null,
   "metadata": {},
   "outputs": [
    {
     "name": "stdout",
     "output_type": "stream",
     "text": [
      "[\n",
      "    {\n",
      "        \"emotion_id\": 1,\n",
      "        \"emotion\": \"admiration\",\n",
      "        \"percentage\": 20\n",
      "    },\n",
      "    {\n",
      "        \"emotion_id\": 2,\n",
      "        \"emotion\": \"amusement\",\n",
      "        \"percentage\": 15\n",
      "    },\n",
      "    {\n",
      "        \"emotion_id\": 3,\n",
      "        \"emotion\": \"joy\",\n",
      "        \"percentage\": 20\n",
      "    },\n",
      "    {\n",
      "        \"emotion_id\": 4,\n",
      "        \"emotion\": \"love\",\n",
      "        \"percentage\": 15\n",
      "    },\n",
      "    {\n",
      "        \"emotion_id\": 5,\n",
      "        \"emotion\": \"gratitude\",\n",
      "        \"percentage\": 15\n",
      "    },\n",
      "    {\n",
      "        \"emotion_id\": 6,\n",
      "        \"emotion\": \"optimism\",\n",
      "        \"percentage\": 15\n",
      "    }\n",
      "]\n"
     ]
    }
   ],
   "source": [
    "prompt2 = f\"\"\"For the poem delimited by triple backticks,\\\n",
    "    give me a list of six to eight emotions that the poem is\\\n",
    "    expressing, with each emotion labeled with its percentage\\\n",
    "    All emotion must be selected from the list delimited by\\\n",
    "    square bracket.\\\n",
    "    Provode them with JSON format with the following keys:\n",
    "    emotion_id, emotion, percentage\n",
    "    [{emotion_list}]\n",
    "    ```{poem}```\n",
    "    \"\"\"\n",
    "response2 = get_completion(prompt2)\n",
    "print(response2.content)"
   ]
  },
  {
   "cell_type": "code",
   "execution_count": null,
   "metadata": {},
   "outputs": [
    {
     "data": {
      "text/plain": [
       "[{'emotion_id': 1, 'emotion': 'admiration', 'percentage': 20},\n",
       " {'emotion_id': 2, 'emotion': 'amusement', 'percentage': 15},\n",
       " {'emotion_id': 3, 'emotion': 'joy', 'percentage': 20},\n",
       " {'emotion_id': 4, 'emotion': 'love', 'percentage': 15},\n",
       " {'emotion_id': 5, 'emotion': 'gratitude', 'percentage': 15},\n",
       " {'emotion_id': 6, 'emotion': 'optimism', 'percentage': 15}]"
      ]
     },
     "metadata": {},
     "output_type": "display_data"
    }
   ],
   "source": [
    "detected_result = json.loads(response2.content)\n",
    "detected_result"
   ]
  },
  {
   "cell_type": "code",
   "execution_count": null,
   "metadata": {},
   "outputs": [
    {
     "data": {
      "text/plain": [
       "'admiration'"
      ]
     },
     "metadata": {},
     "output_type": "display_data"
    }
   ],
   "source": [
    "detected_result[0][\"emotion\"]"
   ]
  }
 ],
 "metadata": {
  "kernelspec": {
   "display_name": "Python 3",
   "language": "python",
   "name": "python3"
  },
  "language_info": {
   "name": "python",
   "version": "3.11.1"
  }
 },
 "nbformat": 4,
 "nbformat_minor": 2
}
